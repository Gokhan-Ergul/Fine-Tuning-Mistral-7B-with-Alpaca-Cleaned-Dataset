{
 "cells": [
  {
   "cell_type": "code",
   "execution_count": 1,
   "id": "4e8353c9-95b6-4831-a677-87df532c26ca",
   "metadata": {
    "execution": {
     "iopub.execute_input": "2025-09-28T10:36:45.415471Z",
     "iopub.status.busy": "2025-09-28T10:36:45.415230Z",
     "iopub.status.idle": "2025-09-28T10:36:49.105510Z",
     "shell.execute_reply": "2025-09-28T10:36:49.104741Z",
     "shell.execute_reply.started": "2025-09-28T10:36:45.415444Z"
    },
    "trusted": true
   },
   "outputs": [],
   "source": [
    "from datasets import load_dataset"
   ]
  },
  {
   "cell_type": "code",
   "execution_count": 2,
   "id": "eee6c101-9212-45ee-a3f9-45012cdf1e1a",
   "metadata": {
    "execution": {
     "iopub.execute_input": "2025-09-28T10:36:49.107201Z",
     "iopub.status.busy": "2025-09-28T10:36:49.106841Z",
     "iopub.status.idle": "2025-09-28T10:36:52.797166Z",
     "shell.execute_reply": "2025-09-28T10:36:52.796604Z",
     "shell.execute_reply.started": "2025-09-28T10:36:49.107181Z"
    },
    "trusted": true
   },
   "outputs": [
    {
     "data": {
      "application/vnd.jupyter.widget-view+json": {
       "model_id": "4b3bcb60e6f34536b4b2e7e327ae6ae0",
       "version_major": 2,
       "version_minor": 0
      },
      "text/plain": [
       "README.md: 0.00B [00:00, ?B/s]"
      ]
     },
     "metadata": {},
     "output_type": "display_data"
    },
    {
     "data": {
      "application/vnd.jupyter.widget-view+json": {
       "model_id": "9a43a75892e24e65a449e8d3c86f9b9e",
       "version_major": 2,
       "version_minor": 0
      },
      "text/plain": [
       "alpaca_data_cleaned.json:   0%|          | 0.00/44.3M [00:00<?, ?B/s]"
      ]
     },
     "metadata": {},
     "output_type": "display_data"
    },
    {
     "data": {
      "application/vnd.jupyter.widget-view+json": {
       "model_id": "dc7be6ffc56f4f018bd2f0fe473c8373",
       "version_major": 2,
       "version_minor": 0
      },
      "text/plain": [
       "Generating train split:   0%|          | 0/51760 [00:00<?, ? examples/s]"
      ]
     },
     "metadata": {},
     "output_type": "display_data"
    }
   ],
   "source": [
    "ds = load_dataset(\"yahma/alpaca-cleaned\")"
   ]
  },
  {
   "cell_type": "code",
   "execution_count": 3,
   "id": "8d871659-683c-43a5-a63d-6f58447a6233",
   "metadata": {
    "execution": {
     "iopub.execute_input": "2025-09-28T10:36:52.798604Z",
     "iopub.status.busy": "2025-09-28T10:36:52.797862Z",
     "iopub.status.idle": "2025-09-28T10:36:52.802813Z",
     "shell.execute_reply": "2025-09-28T10:36:52.802029Z",
     "shell.execute_reply.started": "2025-09-28T10:36:52.798583Z"
    },
    "trusted": true
   },
   "outputs": [
    {
     "name": "stdout",
     "output_type": "stream",
     "text": [
      "DatasetDict({\n",
      "    train: Dataset({\n",
      "        features: ['output', 'input', 'instruction'],\n",
      "        num_rows: 51760\n",
      "    })\n",
      "})\n"
     ]
    }
   ],
   "source": [
    "print(ds)"
   ]
  },
  {
   "cell_type": "code",
   "execution_count": 4,
   "id": "afb64c64-d6d6-473f-80df-3d519996d1c5",
   "metadata": {
    "execution": {
     "iopub.execute_input": "2025-09-28T10:36:52.804347Z",
     "iopub.status.busy": "2025-09-28T10:36:52.803539Z",
     "iopub.status.idle": "2025-09-28T10:36:52.828131Z",
     "shell.execute_reply": "2025-09-28T10:36:52.827534Z",
     "shell.execute_reply.started": "2025-09-28T10:36:52.804317Z"
    },
    "trusted": true
   },
   "outputs": [
    {
     "data": {
      "text/plain": [
       "dict_keys(['train'])"
      ]
     },
     "execution_count": 4,
     "metadata": {},
     "output_type": "execute_result"
    }
   ],
   "source": [
    "ds.keys() #this dataset contain only train."
   ]
  },
  {
   "cell_type": "code",
   "execution_count": 5,
   "id": "7ff8979f-038c-4102-9506-d3149544feaa",
   "metadata": {
    "execution": {
     "iopub.execute_input": "2025-09-28T10:36:52.830381Z",
     "iopub.status.busy": "2025-09-28T10:36:52.830099Z",
     "iopub.status.idle": "2025-09-28T10:36:52.846465Z",
     "shell.execute_reply": "2025-09-28T10:36:52.845721Z",
     "shell.execute_reply.started": "2025-09-28T10:36:52.830361Z"
    },
    "trusted": true
   },
   "outputs": [
    {
     "data": {
      "text/plain": [
       "{'output': '1. Eat a balanced and nutritious diet: Make sure your meals are inclusive of a variety of fruits and vegetables, lean protein, whole grains, and healthy fats. This helps to provide your body with the essential nutrients to function at its best and can help prevent chronic diseases.\\n\\n2. Engage in regular physical activity: Exercise is crucial for maintaining strong bones, muscles, and cardiovascular health. Aim for at least 150 minutes of moderate aerobic exercise or 75 minutes of vigorous exercise each week.\\n\\n3. Get enough sleep: Getting enough quality sleep is crucial for physical and mental well-being. It helps to regulate mood, improve cognitive function, and supports healthy growth and immune function. Aim for 7-9 hours of sleep each night.',\n",
       " 'input': '',\n",
       " 'instruction': 'Give three tips for staying healthy.'}"
      ]
     },
     "execution_count": 5,
     "metadata": {},
     "output_type": "execute_result"
    }
   ],
   "source": [
    "ds['train'][0]"
   ]
  },
  {
   "cell_type": "code",
   "execution_count": 6,
   "id": "9cc5c28e-3a6c-4304-9498-609cca7c3d5c",
   "metadata": {
    "execution": {
     "iopub.execute_input": "2025-09-28T10:36:52.847811Z",
     "iopub.status.busy": "2025-09-28T10:36:52.847340Z",
     "iopub.status.idle": "2025-09-28T10:36:52.862126Z",
     "shell.execute_reply": "2025-09-28T10:36:52.861450Z",
     "shell.execute_reply.started": "2025-09-28T10:36:52.847789Z"
    },
    "trusted": true
   },
   "outputs": [
    {
     "data": {
      "text/plain": [
       "{'output': 'The three primary colors are red, blue, and yellow. These colors are called primary because they cannot be created by mixing other colors and all other colors can be made by combining them in various proportions. In the additive color system, used for light, the primary colors are red, green, and blue (RGB).',\n",
       " 'input': '',\n",
       " 'instruction': 'What are the three primary colors?'}"
      ]
     },
     "execution_count": 6,
     "metadata": {},
     "output_type": "execute_result"
    }
   ],
   "source": [
    "ds['train'][1]"
   ]
  },
  {
   "cell_type": "code",
   "execution_count": 7,
   "id": "a56faee4-20a7-4d2f-9824-7d9457d30ca7",
   "metadata": {
    "execution": {
     "iopub.execute_input": "2025-09-28T10:36:52.863091Z",
     "iopub.status.busy": "2025-09-28T10:36:52.862861Z",
     "iopub.status.idle": "2025-09-28T10:36:52.880308Z",
     "shell.execute_reply": "2025-09-28T10:36:52.879653Z",
     "shell.execute_reply.started": "2025-09-28T10:36:52.863030Z"
    },
    "trusted": true
   },
   "outputs": [],
   "source": [
    "ds_train = ds['train']"
   ]
  },
  {
   "cell_type": "code",
   "execution_count": 8,
   "id": "3d9c4d97-1f78-44bd-8ec2-f16b0647a920",
   "metadata": {
    "execution": {
     "iopub.execute_input": "2025-09-28T10:36:52.881458Z",
     "iopub.status.busy": "2025-09-28T10:36:52.881146Z",
     "iopub.status.idle": "2025-09-28T10:36:52.898076Z",
     "shell.execute_reply": "2025-09-28T10:36:52.897481Z",
     "shell.execute_reply.started": "2025-09-28T10:36:52.881431Z"
    },
    "trusted": true
   },
   "outputs": [
    {
     "data": {
      "text/plain": [
       "{'output': Value(dtype='string', id=None),\n",
       " 'input': Value(dtype='string', id=None),\n",
       " 'instruction': Value(dtype='string', id=None)}"
      ]
     },
     "execution_count": 8,
     "metadata": {},
     "output_type": "execute_result"
    }
   ],
   "source": [
    "ds_train.features"
   ]
  },
  {
   "cell_type": "code",
   "execution_count": 9,
   "id": "cb4e447b-1218-43ce-a8ef-ae390e5fb0c5",
   "metadata": {
    "execution": {
     "iopub.execute_input": "2025-09-28T10:36:52.899094Z",
     "iopub.status.busy": "2025-09-28T10:36:52.898904Z",
     "iopub.status.idle": "2025-09-28T10:36:52.914599Z",
     "shell.execute_reply": "2025-09-28T10:36:52.913889Z",
     "shell.execute_reply.started": "2025-09-28T10:36:52.899076Z"
    },
    "trusted": true
   },
   "outputs": [
    {
     "data": {
      "text/plain": [
       "datasets.dataset_dict.DatasetDict"
      ]
     },
     "execution_count": 9,
     "metadata": {},
     "output_type": "execute_result"
    }
   ],
   "source": [
    "type(ds)"
   ]
  },
  {
   "cell_type": "code",
   "execution_count": 10,
   "id": "d0994883-9a6a-412b-9c99-49e5626d0d2a",
   "metadata": {
    "execution": {
     "iopub.execute_input": "2025-09-28T10:36:52.915986Z",
     "iopub.status.busy": "2025-09-28T10:36:52.915497Z",
     "iopub.status.idle": "2025-09-28T10:36:52.931661Z",
     "shell.execute_reply": "2025-09-28T10:36:52.930971Z",
     "shell.execute_reply.started": "2025-09-28T10:36:52.915961Z"
    },
    "trusted": true
   },
   "outputs": [
    {
     "data": {
      "text/plain": [
       "datasets.arrow_dataset.Dataset"
      ]
     },
     "execution_count": 10,
     "metadata": {},
     "output_type": "execute_result"
    }
   ],
   "source": [
    "type(ds_train)"
   ]
  },
  {
   "cell_type": "code",
   "execution_count": 11,
   "id": "e4baa80e-21aa-43a2-b55d-c3d4f7b6f664",
   "metadata": {
    "execution": {
     "iopub.execute_input": "2025-09-28T10:36:52.932807Z",
     "iopub.status.busy": "2025-09-28T10:36:52.932456Z",
     "iopub.status.idle": "2025-09-28T10:36:52.994281Z",
     "shell.execute_reply": "2025-09-28T10:36:52.993591Z",
     "shell.execute_reply.started": "2025-09-28T10:36:52.932783Z"
    },
    "trusted": true
   },
   "outputs": [
    {
     "data": {
      "text/plain": [
       "'Give three tips for staying healthy.'"
      ]
     },
     "execution_count": 11,
     "metadata": {},
     "output_type": "execute_result"
    }
   ],
   "source": [
    "ds_train['instruction'][0]"
   ]
  },
  {
   "cell_type": "code",
   "execution_count": 12,
   "id": "b362350f-f728-4e6c-b8ab-8c6d047d444a",
   "metadata": {
    "execution": {
     "iopub.execute_input": "2025-09-28T10:36:52.995308Z",
     "iopub.status.busy": "2025-09-28T10:36:52.995021Z",
     "iopub.status.idle": "2025-09-28T10:36:53.052188Z",
     "shell.execute_reply": "2025-09-28T10:36:53.051458Z",
     "shell.execute_reply.started": "2025-09-28T10:36:52.995285Z"
    },
    "trusted": true
   },
   "outputs": [
    {
     "data": {
      "text/plain": [
       "''"
      ]
     },
     "execution_count": 12,
     "metadata": {},
     "output_type": "execute_result"
    }
   ],
   "source": [
    "ds_train['input'][0]"
   ]
  },
  {
   "cell_type": "code",
   "execution_count": 13,
   "id": "4f30503b-4ad5-4ce7-9a4e-284d62757ad8",
   "metadata": {
    "execution": {
     "iopub.execute_input": "2025-09-28T10:36:53.053341Z",
     "iopub.status.busy": "2025-09-28T10:36:53.053066Z",
     "iopub.status.idle": "2025-09-28T10:36:53.140815Z",
     "shell.execute_reply": "2025-09-28T10:36:53.140088Z",
     "shell.execute_reply.started": "2025-09-28T10:36:53.053318Z"
    },
    "trusted": true
   },
   "outputs": [
    {
     "data": {
      "text/plain": [
       "'1. Eat a balanced and nutritious diet: Make sure your meals are inclusive of a variety of fruits and vegetables, lean protein, whole grains, and healthy fats. This helps to provide your body with the essential nutrients to function at its best and can help prevent chronic diseases.\\n\\n2. Engage in regular physical activity: Exercise is crucial for maintaining strong bones, muscles, and cardiovascular health. Aim for at least 150 minutes of moderate aerobic exercise or 75 minutes of vigorous exercise each week.\\n\\n3. Get enough sleep: Getting enough quality sleep is crucial for physical and mental well-being. It helps to regulate mood, improve cognitive function, and supports healthy growth and immune function. Aim for 7-9 hours of sleep each night.'"
      ]
     },
     "execution_count": 13,
     "metadata": {},
     "output_type": "execute_result"
    }
   ],
   "source": [
    "ds_train['output'][0]"
   ]
  },
  {
   "cell_type": "markdown",
   "id": "5d9345c9-e86f-4152-b12a-14e6777e4050",
   "metadata": {},
   "source": [
    "i wannted to make it short.So i will use 2000 example instead of 52k"
   ]
  },
  {
   "cell_type": "code",
   "execution_count": 59,
   "id": "8664aad4-d417-4103-963c-0fe53207ee44",
   "metadata": {
    "execution": {
     "iopub.execute_input": "2025-09-28T12:35:18.469292Z",
     "iopub.status.busy": "2025-09-28T12:35:18.468581Z",
     "iopub.status.idle": "2025-09-28T12:35:18.480511Z",
     "shell.execute_reply": "2025-09-28T12:35:18.479811Z",
     "shell.execute_reply.started": "2025-09-28T12:35:18.469239Z"
    },
    "trusted": true
   },
   "outputs": [],
   "source": [
    "mini_ds = ds[\"train\"].shuffle(seed=42).select(range(2000))\n",
    "\n",
    "def format_instruction(example):\n",
    "    instruction = example['instruction']\n",
    "    input_text = example['input']\n",
    "    output_text = example['output']\n",
    "\n",
    "    if input_text.strip(): #not empty\n",
    "        prompt = f\"### Instruction:\\n{instruction}\\n\\n### Input:\\n{input_text}\\n\\n### Response:\\n{output_text}\"\n",
    "    else:\n",
    "        prompt = f\"### Instruction:\\n{instruction}\\n\\n### Response:\\n{output_text}\"\n",
    "\n",
    "    return {\"text\":prompt}\n",
    "\n",
    "\n",
    "formatted_ds = mini_ds.map(format_instruction)"
   ]
  },
  {
   "cell_type": "code",
   "execution_count": 60,
   "id": "b3260919-c3bc-455a-8946-68538683513e",
   "metadata": {
    "execution": {
     "iopub.execute_input": "2025-09-28T12:35:20.638160Z",
     "iopub.status.busy": "2025-09-28T12:35:20.637889Z",
     "iopub.status.idle": "2025-09-28T12:35:20.642901Z",
     "shell.execute_reply": "2025-09-28T12:35:20.642124Z",
     "shell.execute_reply.started": "2025-09-28T12:35:20.638141Z"
    },
    "trusted": true
   },
   "outputs": [
    {
     "data": {
      "text/plain": [
       "Dataset({\n",
       "    features: ['output', 'input', 'instruction', 'text'],\n",
       "    num_rows: 2000\n",
       "})"
      ]
     },
     "execution_count": 60,
     "metadata": {},
     "output_type": "execute_result"
    }
   ],
   "source": [
    "formatted_ds"
   ]
  },
  {
   "cell_type": "code",
   "execution_count": 61,
   "id": "6d6f135d-c201-4824-9172-dd9945639132",
   "metadata": {
    "execution": {
     "iopub.execute_input": "2025-09-28T12:35:22.104311Z",
     "iopub.status.busy": "2025-09-28T12:35:22.103612Z",
     "iopub.status.idle": "2025-09-28T12:35:22.112574Z",
     "shell.execute_reply": "2025-09-28T12:35:22.111989Z",
     "shell.execute_reply.started": "2025-09-28T12:35:22.104287Z"
    },
    "trusted": true
   },
   "outputs": [
    {
     "data": {
      "text/plain": [
       "'### Instruction:\\nRearrange the following sentence to make the sentence more interesting.\\n\\n### Input:\\nShe left the party early\\n\\n### Response:\\nEarly, she left the party.'"
      ]
     },
     "execution_count": 61,
     "metadata": {},
     "output_type": "execute_result"
    }
   ],
   "source": [
    "formatted_ds['text'][0]"
   ]
  },
  {
   "cell_type": "code",
   "execution_count": null,
   "id": "d45419bf-b7d3-4fd6-ba3b-b5bc1f4672b5",
   "metadata": {
    "execution": {
     "iopub.execute_input": "2025-09-28T10:39:07.826616Z",
     "iopub.status.busy": "2025-09-28T10:39:07.825859Z",
     "iopub.status.idle": "2025-09-28T10:39:07.953688Z",
     "shell.execute_reply": "2025-09-28T10:39:07.953103Z",
     "shell.execute_reply.started": "2025-09-28T10:39:07.826589Z"
    },
    "trusted": true
   },
   "outputs": [],
   "source": [
    "from huggingface_hub import login\n",
    "login(token=\"My_Hugging_Face_Token\")"
   ]
  },
  {
   "cell_type": "code",
   "execution_count": null,
   "id": "e35e3e5d-bc57-48cc-b7de-794d708b775e",
   "metadata": {
    "execution": {
     "iopub.execute_input": "2025-09-28T10:39:41.322940Z",
     "iopub.status.busy": "2025-09-28T10:39:41.322349Z",
     "iopub.status.idle": "2025-09-28T10:39:41.326461Z",
     "shell.execute_reply": "2025-09-28T10:39:41.325624Z",
     "shell.execute_reply.started": "2025-09-28T10:39:41.322913Z"
    },
    "trusted": true
   },
   "outputs": [],
   "source": [
    "token = \"My_Hugging_Face_Token\""
   ]
  },
  {
   "cell_type": "code",
   "execution_count": 20,
   "id": "f3c18fec-7a47-4b42-9043-b2289ebdb5df",
   "metadata": {
    "execution": {
     "iopub.execute_input": "2025-09-28T10:39:42.012974Z",
     "iopub.status.busy": "2025-09-28T10:39:42.012332Z",
     "iopub.status.idle": "2025-09-28T10:44:18.412741Z",
     "shell.execute_reply": "2025-09-28T10:44:18.412148Z",
     "shell.execute_reply.started": "2025-09-28T10:39:42.012949Z"
    },
    "trusted": true
   },
   "outputs": [
    {
     "name": "stdout",
     "output_type": "stream",
     "text": [
      "\u001b[2K   \u001b[90m━━━━━━━━━━━━━━━━━━━━━━━━━━━━━━━━━━━━━━━━\u001b[0m \u001b[32m61.3/61.3 MB\u001b[0m \u001b[31m28.8 MB/s\u001b[0m eta \u001b[36m0:00:00\u001b[0m:00:01\u001b[0m0:01\u001b[0mm\n",
      "\u001b[2K   \u001b[90m━━━━━━━━━━━━━━━━━━━━━━━━━━━━━━━━━━━━━━━━\u001b[0m \u001b[32m363.4/363.4 MB\u001b[0m \u001b[31m4.9 MB/s\u001b[0m eta \u001b[36m0:00:00\u001b[0m:00:01\u001b[0m00:01\u001b[0m\n",
      "\u001b[2K   \u001b[90m━━━━━━━━━━━━━━━━━━━━━━━━━━━━━━━━━━━━━━━━\u001b[0m \u001b[32m13.8/13.8 MB\u001b[0m \u001b[31m53.0 MB/s\u001b[0m eta \u001b[36m0:00:00\u001b[0m00:01\u001b[0m0:01\u001b[0mm\n",
      "\u001b[2K   \u001b[90m━━━━━━━━━━━━━━━━━━━━━━━━━━━━━━━━━━━━━━━━\u001b[0m \u001b[32m24.6/24.6 MB\u001b[0m \u001b[31m72.8 MB/s\u001b[0m eta \u001b[36m0:00:00\u001b[0m:00:01\u001b[0m00:01\u001b[0m\n",
      "\u001b[2K   \u001b[90m━━━━━━━━━━━━━━━━━━━━━━━━━━━━━━━━━━━━━━━━\u001b[0m \u001b[32m883.7/883.7 kB\u001b[0m \u001b[31m44.2 MB/s\u001b[0m eta \u001b[36m0:00:00\u001b[0m\n",
      "\u001b[2K   \u001b[90m━━━━━━━━━━━━━━━━━━━━━━━━━━━━━━━━━━━━━━━━\u001b[0m \u001b[32m664.8/664.8 MB\u001b[0m \u001b[31m2.6 MB/s\u001b[0m eta \u001b[36m0:00:00\u001b[0m:00:01\u001b[0m00:01\u001b[0m\n",
      "\u001b[2K   \u001b[90m━━━━━━━━━━━━━━━━━━━━━━━━━━━━━━━━━━━━━━━━\u001b[0m \u001b[32m211.5/211.5 MB\u001b[0m \u001b[31m8.0 MB/s\u001b[0m eta \u001b[36m0:00:00\u001b[0m:00:01\u001b[0m00:01\u001b[0m\n",
      "\u001b[2K   \u001b[90m━━━━━━━━━━━━━━━━━━━━━━━━━━━━━━━━━━━━━━━━\u001b[0m \u001b[32m56.3/56.3 MB\u001b[0m \u001b[31m30.1 MB/s\u001b[0m eta \u001b[36m0:00:00\u001b[0m:00:01\u001b[0m00:01\u001b[0m\n",
      "\u001b[2K   \u001b[90m━━━━━━━━━━━━━━━━━━━━━━━━━━━━━━━━━━━━━━━━\u001b[0m \u001b[32m127.9/127.9 MB\u001b[0m \u001b[31m13.3 MB/s\u001b[0m eta \u001b[36m0:00:00\u001b[0m00:01\u001b[0m00:01\u001b[0m\n",
      "\u001b[2K   \u001b[90m━━━━━━━━━━━━━━━━━━━━━━━━━━━━━━━━━━━━━━━━\u001b[0m \u001b[32m207.5/207.5 MB\u001b[0m \u001b[31m7.0 MB/s\u001b[0m eta \u001b[36m0:00:00\u001b[0m:00:01\u001b[0m00:01\u001b[0m\n",
      "\u001b[2K   \u001b[90m━━━━━━━━━━━━━━━━━━━━━━━━━━━━━━━━━━━━━━━━\u001b[0m \u001b[32m21.1/21.1 MB\u001b[0m \u001b[31m13.6 MB/s\u001b[0m eta \u001b[36m0:00:00\u001b[0m:00:01\u001b[0m00:01\u001b[0m\n",
      "\u001b[?25h"
     ]
    },
    {
     "data": {
      "application/vnd.jupyter.widget-view+json": {
       "model_id": "fc4dc737e0ca4713a7aa3237fd8784db",
       "version_major": 2,
       "version_minor": 0
      },
      "text/plain": [
       "tokenizer_config.json:   0%|          | 0.00/996 [00:00<?, ?B/s]"
      ]
     },
     "metadata": {},
     "output_type": "display_data"
    },
    {
     "data": {
      "application/vnd.jupyter.widget-view+json": {
       "model_id": "3185cfba81ee4c4ba628ac34452e680e",
       "version_major": 2,
       "version_minor": 0
      },
      "text/plain": [
       "tokenizer.model:   0%|          | 0.00/493k [00:00<?, ?B/s]"
      ]
     },
     "metadata": {},
     "output_type": "display_data"
    },
    {
     "data": {
      "application/vnd.jupyter.widget-view+json": {
       "model_id": "0410d2f0d25543fc88d84a9baa4acafc",
       "version_major": 2,
       "version_minor": 0
      },
      "text/plain": [
       "tokenizer.json:   0%|          | 0.00/1.80M [00:00<?, ?B/s]"
      ]
     },
     "metadata": {},
     "output_type": "display_data"
    },
    {
     "data": {
      "application/vnd.jupyter.widget-view+json": {
       "model_id": "a8f5a9627fae48d2adfa62aa071e2f6b",
       "version_major": 2,
       "version_minor": 0
      },
      "text/plain": [
       "special_tokens_map.json:   0%|          | 0.00/414 [00:00<?, ?B/s]"
      ]
     },
     "metadata": {},
     "output_type": "display_data"
    },
    {
     "data": {
      "application/vnd.jupyter.widget-view+json": {
       "model_id": "cbc8f89787984ed2988a283b21061240",
       "version_major": 2,
       "version_minor": 0
      },
      "text/plain": [
       "config.json:   0%|          | 0.00/571 [00:00<?, ?B/s]"
      ]
     },
     "metadata": {},
     "output_type": "display_data"
    },
    {
     "name": "stderr",
     "output_type": "stream",
     "text": [
      "2025-09-28 10:41:14.559217: E external/local_xla/xla/stream_executor/cuda/cuda_fft.cc:477] Unable to register cuFFT factory: Attempting to register factory for plugin cuFFT when one has already been registered\n",
      "WARNING: All log messages before absl::InitializeLog() is called are written to STDERR\n",
      "E0000 00:00:1759056074.792985      36 cuda_dnn.cc:8310] Unable to register cuDNN factory: Attempting to register factory for plugin cuDNN when one has already been registered\n",
      "E0000 00:00:1759056074.855630      36 cuda_blas.cc:1418] Unable to register cuBLAS factory: Attempting to register factory for plugin cuBLAS when one has already been registered\n",
      "The `load_in_4bit` and `load_in_8bit` arguments are deprecated and will be removed in the future versions. Please, pass a `BitsAndBytesConfig` object in `quantization_config` argument instead.\n"
     ]
    },
    {
     "data": {
      "application/vnd.jupyter.widget-view+json": {
       "model_id": "cb3939da0c074ac7af44d2450ce4b495",
       "version_major": 2,
       "version_minor": 0
      },
      "text/plain": [
       "model.safetensors.index.json:   0%|          | 0.00/25.1k [00:00<?, ?B/s]"
      ]
     },
     "metadata": {},
     "output_type": "display_data"
    },
    {
     "data": {
      "application/vnd.jupyter.widget-view+json": {
       "model_id": "7c5dceb71cce4413a6fc92661dc26a32",
       "version_major": 2,
       "version_minor": 0
      },
      "text/plain": [
       "Fetching 2 files:   0%|          | 0/2 [00:00<?, ?it/s]"
      ]
     },
     "metadata": {},
     "output_type": "display_data"
    },
    {
     "data": {
      "application/vnd.jupyter.widget-view+json": {
       "model_id": "b9e961bbc988485f95d5861735745452",
       "version_major": 2,
       "version_minor": 0
      },
      "text/plain": [
       "model-00001-of-00002.safetensors:   0%|          | 0.00/9.94G [00:00<?, ?B/s]"
      ]
     },
     "metadata": {},
     "output_type": "display_data"
    },
    {
     "data": {
      "application/vnd.jupyter.widget-view+json": {
       "model_id": "6c794b475d7a46fe9b6f00abaf4bdd9a",
       "version_major": 2,
       "version_minor": 0
      },
      "text/plain": [
       "model-00002-of-00002.safetensors:   0%|          | 0.00/4.54G [00:00<?, ?B/s]"
      ]
     },
     "metadata": {},
     "output_type": "display_data"
    },
    {
     "data": {
      "application/vnd.jupyter.widget-view+json": {
       "model_id": "e41bde64d5e943a385857d037efd6555",
       "version_major": 2,
       "version_minor": 0
      },
      "text/plain": [
       "Loading checkpoint shards:   0%|          | 0/2 [00:00<?, ?it/s]"
      ]
     },
     "metadata": {},
     "output_type": "display_data"
    },
    {
     "data": {
      "application/vnd.jupyter.widget-view+json": {
       "model_id": "851a69a608fa4ff783b3081f3c7acaab",
       "version_major": 2,
       "version_minor": 0
      },
      "text/plain": [
       "generation_config.json:   0%|          | 0.00/116 [00:00<?, ?B/s]"
      ]
     },
     "metadata": {},
     "output_type": "display_data"
    }
   ],
   "source": [
    "!pip install -q bitsandbytes accelerate\n",
    "\n",
    "from transformers import AutoModelForCausalLM, AutoTokenizer\n",
    "\n",
    "model_name = \"mistralai/Mistral-7B-v0.1\"\n",
    "\n",
    "tokenizer = AutoTokenizer.from_pretrained(model_name, token=token)\n",
    "\n",
    "model = AutoModelForCausalLM.from_pretrained(\n",
    "    model_name,\n",
    "    token=token,\n",
    "    device_map=\"auto\",\n",
    "    load_in_4bit=True,\n",
    ")"
   ]
  },
  {
   "cell_type": "code",
   "execution_count": 74,
   "id": "fd32a115-e434-4f66-96bd-244b8569f91f",
   "metadata": {
    "execution": {
     "iopub.execute_input": "2025-09-28T13:07:42.613341Z",
     "iopub.status.busy": "2025-09-28T13:07:42.612509Z",
     "iopub.status.idle": "2025-09-28T13:07:43.214677Z",
     "shell.execute_reply": "2025-09-28T13:07:43.213968Z",
     "shell.execute_reply.started": "2025-09-28T13:07:42.613306Z"
    },
    "trusted": true
   },
   "outputs": [
    {
     "data": {
      "application/vnd.jupyter.widget-view+json": {
       "model_id": "82ffcb08e4b34d73baba016344292300",
       "version_major": 2,
       "version_minor": 0
      },
      "text/plain": [
       "Map:   0%|          | 0/2000 [00:00<?, ? examples/s]"
      ]
     },
     "metadata": {},
     "output_type": "display_data"
    }
   ],
   "source": [
    "tokenizer.pad_token = tokenizer.eos_token\n",
    "def tokenizer_function(example):\n",
    "    return tokenizer(\n",
    "        example['text'],\n",
    "        truncation = True,\n",
    "        max_length = 384,\n",
    "        padding=\"max_length\"\n",
    "    )\n",
    "\n",
    "tokenized_ds = formatted_ds.map(tokenizer_function, batched = True)"
   ]
  },
  {
   "cell_type": "code",
   "execution_count": 75,
   "id": "ae7fe115-f9df-47a7-8479-7721264989a7",
   "metadata": {
    "execution": {
     "iopub.execute_input": "2025-09-28T13:07:46.283067Z",
     "iopub.status.busy": "2025-09-28T13:07:46.282522Z",
     "iopub.status.idle": "2025-09-28T13:07:46.945865Z",
     "shell.execute_reply": "2025-09-28T13:07:46.945306Z",
     "shell.execute_reply.started": "2025-09-28T13:07:46.283041Z"
    },
    "trusted": true
   },
   "outputs": [
    {
     "data": {
      "application/vnd.jupyter.widget-view+json": {
       "model_id": "1212b6954af04b2e9424848e465ca488",
       "version_major": 2,
       "version_minor": 0
      },
      "text/plain": [
       "Map:   0%|          | 0/2000 [00:00<?, ? examples/s]"
      ]
     },
     "metadata": {},
     "output_type": "display_data"
    }
   ],
   "source": [
    "def add_labels(example):\n",
    "    example['labels'] = example['input_ids'].copy()\n",
    "    return example\n",
    "\n",
    "tokenized_ds = tokenized_ds.map(add_labels)"
   ]
  },
  {
   "cell_type": "code",
   "execution_count": 77,
   "id": "326ba230-75f1-474d-8ce3-1ec51aca8f17",
   "metadata": {
    "execution": {
     "iopub.execute_input": "2025-09-28T13:08:19.819459Z",
     "iopub.status.busy": "2025-09-28T13:08:19.819191Z",
     "iopub.status.idle": "2025-09-28T13:08:19.824581Z",
     "shell.execute_reply": "2025-09-28T13:08:19.823913Z",
     "shell.execute_reply.started": "2025-09-28T13:08:19.819442Z"
    },
    "trusted": true
   },
   "outputs": [
    {
     "data": {
      "text/plain": [
       "Dataset({\n",
       "    features: ['output', 'input', 'instruction', 'text', 'input_ids', 'attention_mask', 'labels'],\n",
       "    num_rows: 2000\n",
       "})"
      ]
     },
     "execution_count": 77,
     "metadata": {},
     "output_type": "execute_result"
    }
   ],
   "source": [
    "tokenized_ds"
   ]
  },
  {
   "cell_type": "code",
   "execution_count": 78,
   "id": "896afa73-69a0-4714-8292-1d4b1fac39c0",
   "metadata": {
    "execution": {
     "iopub.execute_input": "2025-09-28T13:08:21.879810Z",
     "iopub.status.busy": "2025-09-28T13:08:21.879523Z",
     "iopub.status.idle": "2025-09-28T13:08:21.884351Z",
     "shell.execute_reply": "2025-09-28T13:08:21.883707Z",
     "shell.execute_reply.started": "2025-09-28T13:08:21.879788Z"
    },
    "trusted": true
   },
   "outputs": [],
   "source": [
    "tokenized_ds.set_format(type= 'torch', columns = ['input_ids','attention_mask','labels'])"
   ]
  },
  {
   "cell_type": "code",
   "execution_count": 79,
   "id": "4d8e45a2-2bc1-4020-a04c-08a290c8afd2",
   "metadata": {
    "execution": {
     "iopub.execute_input": "2025-09-28T13:08:23.856829Z",
     "iopub.status.busy": "2025-09-28T13:08:23.856593Z",
     "iopub.status.idle": "2025-09-28T13:08:23.860105Z",
     "shell.execute_reply": "2025-09-28T13:08:23.859516Z",
     "shell.execute_reply.started": "2025-09-28T13:08:23.856812Z"
    },
    "trusted": true
   },
   "outputs": [],
   "source": [
    "from peft import LoraConfig,get_peft_model"
   ]
  },
  {
   "cell_type": "code",
   "execution_count": 80,
   "id": "355f33c5-423e-46e3-8097-8da7adf185eb",
   "metadata": {
    "execution": {
     "iopub.execute_input": "2025-09-28T13:08:25.697510Z",
     "iopub.status.busy": "2025-09-28T13:08:25.697205Z",
     "iopub.status.idle": "2025-09-28T13:08:25.922376Z",
     "shell.execute_reply": "2025-09-28T13:08:25.921779Z",
     "shell.execute_reply.started": "2025-09-28T13:08:25.697487Z"
    },
    "trusted": true
   },
   "outputs": [
    {
     "name": "stderr",
     "output_type": "stream",
     "text": [
      "/usr/local/lib/python3.11/dist-packages/peft/mapping_func.py:73: UserWarning: You are trying to modify a model with PEFT for a second time. If you want to reload the model with a different config, make sure to call `.unload()` before.\n",
      "  warnings.warn(\n",
      "/usr/local/lib/python3.11/dist-packages/peft/tuners/tuners_utils.py:167: UserWarning: Already found a `peft_config` attribute in the model. This will lead to having multiple adapters in the model. Make sure to know what you are doing!\n",
      "  warnings.warn(\n"
     ]
    },
    {
     "name": "stdout",
     "output_type": "stream",
     "text": [
      "trainable params: 6,815,744 || all params: 7,248,547,840 || trainable%: 0.0940\n"
     ]
    }
   ],
   "source": [
    "lora_config = LoraConfig(\n",
    "    r=8,\n",
    "    lora_alpha=16,\n",
    "    target_modules=[\"q_proj\", \"k_proj\", \"v_proj\", \"o_proj\"],\n",
    "    lora_dropout=0.05,\n",
    "    bias=\"none\",\n",
    "    task_type=\"CAUSAL_LM\",\n",
    ")\n",
    "\n",
    "model = get_peft_model(model, lora_config)\n",
    "model.print_trainable_parameters()"
   ]
  },
  {
   "cell_type": "code",
   "execution_count": null,
   "id": "2b95f3c5-180b-4be6-85d6-744c6cae2f06",
   "metadata": {
    "execution": {
     "iopub.execute_input": "2025-09-28T13:08:30.332413Z",
     "iopub.status.busy": "2025-09-28T13:08:30.331911Z",
     "iopub.status.idle": "2025-09-28T13:08:30.358714Z",
     "shell.execute_reply": "2025-09-28T13:08:30.358168Z",
     "shell.execute_reply.started": "2025-09-28T13:08:30.332389Z"
    },
    "trusted": true
   },
   "outputs": [],
   "source": [
    "from transformers import TrainingArguments\n",
    "\n",
    "training_args = TrainingArguments(\n",
    "    output_dir=\"./mistral_lora_alpaca\",\n",
    "    per_device_train_batch_size=2,\n",
    "    gradient_accumulation_steps=4,\n",
    "    num_train_epochs=1,#to make it short\n",
    "    learning_rate=2e-4,\n",
    "    logging_steps=10,\n",
    "    save_steps=500,\n",
    "    eval_strategy =\"steps\",\n",
    "    optim=\"paged_adamw_8bit\",\n",
    "    eval_steps=500,\n",
    "    save_total_limit=2,\n",
    "    fp16=False,\n",
    "    report_to=\"tensorboard\", \n",
    "    logging_dir=\"./logs\",\n",
    ")\n"
   ]
  },
  {
   "cell_type": "code",
   "execution_count": null,
   "id": "81b95b84-ceb0-4ff0-9112-f5e74d41429a",
   "metadata": {
    "execution": {
     "iopub.execute_input": "2025-09-28T13:08:42.612999Z",
     "iopub.status.busy": "2025-09-28T13:08:42.612758Z",
     "iopub.status.idle": "2025-09-28T14:03:59.232511Z",
     "shell.execute_reply": "2025-09-28T14:03:59.231893Z",
     "shell.execute_reply.started": "2025-09-28T13:08:42.612973Z"
    },
    "trusted": true
   },
   "outputs": [
    {
     "name": "stderr",
     "output_type": "stream",
     "text": [
      "No label_names provided for model class `PeftModelForCausalLM`. Since `PeftModel` hides base models input arguments, if label_names is not given, label_names can't be set automatically within `Trainer`. Note that empty label_names list will be used instead.\n"
     ]
    },
    {
     "data": {
      "text/html": [
       "\n",
       "    <div>\n",
       "      \n",
       "      <progress value='225' max='225' style='width:300px; height:20px; vertical-align: middle;'></progress>\n",
       "      [225/225 55:01, Epoch 1/1]\n",
       "    </div>\n",
       "    <table border=\"1\" class=\"dataframe\">\n",
       "  <thead>\n",
       " <tr style=\"text-align: left;\">\n",
       "      <th>Step</th>\n",
       "      <th>Training Loss</th>\n",
       "      <th>Validation Loss</th>\n",
       "    </tr>\n",
       "  </thead>\n",
       "  <tbody>\n",
       "  </tbody>\n",
       "</table><p>"
      ],
      "text/plain": [
       "<IPython.core.display.HTML object>"
      ]
     },
     "metadata": {},
     "output_type": "display_data"
    },
    {
     "data": {
      "text/plain": [
       "TrainOutput(global_step=225, training_loss=0.6084059259626601, metrics={'train_runtime': 3315.989, 'train_samples_per_second': 0.543, 'train_steps_per_second': 0.068, 'total_flos': 2.9517595803648e+16, 'train_loss': 0.6084059259626601, 'epoch': 1.0})"
      ]
     },
     "execution_count": 82,
     "metadata": {},
     "output_type": "execute_result"
    }
   ],
   "source": [
    "from datasets import DatasetDict\n",
    "\n",
    "dataset = tokenized_ds.train_test_split(test_size=0.1)\n",
    "train_ds = dataset[\"train\"]\n",
    "val_ds = dataset[\"test\"]\n",
    "\n",
    "trainer = Trainer(\n",
    "    model=model,\n",
    "    args=training_args,\n",
    "    train_dataset=train_ds,\n",
    "    eval_dataset=val_ds,\n",
    ")\n",
    "\n",
    "trainer.train()"
   ]
  },
  {
   "cell_type": "code",
   "execution_count": 83,
   "id": "dbd0f436-63fc-42f7-9a95-5f25769542cb",
   "metadata": {
    "execution": {
     "iopub.execute_input": "2025-09-28T14:03:59.233786Z",
     "iopub.status.busy": "2025-09-28T14:03:59.233528Z",
     "iopub.status.idle": "2025-09-28T14:03:59.237225Z",
     "shell.execute_reply": "2025-09-28T14:03:59.236621Z",
     "shell.execute_reply.started": "2025-09-28T14:03:59.233743Z"
    },
    "trusted": true
   },
   "outputs": [],
   "source": [
    "#mini_ds = 2000 \n",
    "#train = 2000 * 0.1 = 1800\n",
    "#per_device_train_batch_size = 2\n",
    "\n",
    "#gradient_accumulation_steps = 4\n",
    "\n",
    "#num_train_epochs = 1\n",
    "\n",
    "#255 = (1800*1 / 2*4)"
   ]
  },
  {
   "cell_type": "code",
   "execution_count": null,
   "id": "dabe1cff-0e6f-4a9c-abd3-d6956910c90f",
   "metadata": {
    "execution": {
     "iopub.execute_input": "2025-09-28T14:04:35.039079Z",
     "iopub.status.busy": "2025-09-28T14:04:35.038810Z",
     "iopub.status.idle": "2025-09-28T14:04:35.131800Z",
     "shell.execute_reply": "2025-09-28T14:04:35.131236Z",
     "shell.execute_reply.started": "2025-09-28T14:04:35.039058Z"
    },
    "trusted": true
   },
   "outputs": [],
   "source": [
    "from peft import PeftModel\n",
    "\n",
    "# applied LoRA modelin trainer.model’i\n",
    "peft_model = trainer.model  \n",
    "\n",
    "# Record\n",
    "peft_model.save_pretrained(\"./my_finetuned_model\")"
   ]
  },
  {
   "cell_type": "code",
   "execution_count": 85,
   "id": "03179857-9ee4-49ae-805e-61adad823512",
   "metadata": {
    "execution": {
     "iopub.execute_input": "2025-09-28T14:04:36.642371Z",
     "iopub.status.busy": "2025-09-28T14:04:36.641822Z",
     "iopub.status.idle": "2025-09-28T14:04:36.688040Z",
     "shell.execute_reply": "2025-09-28T14:04:36.687496Z",
     "shell.execute_reply.started": "2025-09-28T14:04:36.642348Z"
    },
    "trusted": true
   },
   "outputs": [
    {
     "data": {
      "text/plain": [
       "('./my_finetuned_model/tokenizer_config.json',\n",
       " './my_finetuned_model/special_tokens_map.json',\n",
       " './my_finetuned_model/tokenizer.model',\n",
       " './my_finetuned_model/added_tokens.json',\n",
       " './my_finetuned_model/tokenizer.json')"
      ]
     },
     "execution_count": 85,
     "metadata": {},
     "output_type": "execute_result"
    }
   ],
   "source": [
    "tokenizer.save_pretrained(\"./my_finetuned_model\")"
   ]
  },
  {
   "cell_type": "code",
   "execution_count": 86,
   "id": "ceb05603-e711-4d72-b392-223f173c70c3",
   "metadata": {
    "execution": {
     "iopub.execute_input": "2025-09-28T14:04:37.743830Z",
     "iopub.status.busy": "2025-09-28T14:04:37.743159Z",
     "iopub.status.idle": "2025-09-28T14:04:39.198635Z",
     "shell.execute_reply": "2025-09-28T14:04:39.198065Z",
     "shell.execute_reply.started": "2025-09-28T14:04:37.743807Z"
    },
    "trusted": true
   },
   "outputs": [
    {
     "data": {
      "text/plain": [
       "'/kaggle/working/my_finetuned_model.zip'"
      ]
     },
     "execution_count": 86,
     "metadata": {},
     "output_type": "execute_result"
    }
   ],
   "source": [
    "import shutil\n",
    "\n",
    "shutil.make_archive(\"my_finetuned_model\", 'zip', \"./my_finetuned_model\")"
   ]
  },
  {
   "cell_type": "code",
   "execution_count": null,
   "id": "f088046d-94e9-4ceb-bb12-2e4f33d7a434",
   "metadata": {
    "trusted": true
   },
   "outputs": [],
   "source": []
  }
 ],
 "metadata": {
  "kaggle": {
   "accelerator": "gpu",
   "dataSources": [],
   "dockerImageVersionId": 31090,
   "isGpuEnabled": true,
   "isInternetEnabled": true,
   "language": "python",
   "sourceType": "notebook"
  },
  "kernelspec": {
   "display_name": "Python 3",
   "language": "python",
   "name": "python3"
  },
  "language_info": {
   "codemirror_mode": {
    "name": "ipython",
    "version": 3
   },
   "file_extension": ".py",
   "mimetype": "text/x-python",
   "name": "python",
   "nbconvert_exporter": "python",
   "pygments_lexer": "ipython3",
   "version": "3.11.13"
  }
 },
 "nbformat": 4,
 "nbformat_minor": 5
}
